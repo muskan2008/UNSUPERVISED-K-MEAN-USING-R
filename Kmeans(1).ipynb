{
 "cells": [
  {
   "cell_type": "code",
   "execution_count": 1,
   "metadata": {},
   "outputs": [
    {
     "data": {
      "text/html": [
       "<table>\n",
       "<thead><tr><th scope=col>ï..</th><th scope=col>ID</th><th scope=col>Name</th><th scope=col>Age</th><th scope=col>Photo</th><th scope=col>Nationality</th><th scope=col>Flag</th><th scope=col>Overall</th><th scope=col>Potential</th><th scope=col>Club</th><th scope=col>...</th><th scope=col>Composure</th><th scope=col>Marking</th><th scope=col>StandingTackle</th><th scope=col>SlidingTackle</th><th scope=col>GKDiving</th><th scope=col>GKHandling</th><th scope=col>GKKicking</th><th scope=col>GKPositioning</th><th scope=col>GKReflexes</th><th scope=col>Release.Clause</th></tr></thead>\n",
       "<tbody>\n",
       "\t<tr><td>0                                             </td><td>158023                                        </td><td>L. Messi                                      </td><td>31                                            </td><td>https://cdn.sofifa.org/players/4/19/158023.png</td><td>Argentina                                     </td><td>https://cdn.sofifa.org/flags/52.png           </td><td>94                                            </td><td>94                                            </td><td>FC Barcelona                                  </td><td>...                                           </td><td>96                                            </td><td>33                                            </td><td>28                                            </td><td>26                                            </td><td> 6                                            </td><td>11                                            </td><td>15                                            </td><td>14                                            </td><td> 8                                            </td><td>â‚¬226.5M                                     </td></tr>\n",
       "\t<tr><td>1                                             </td><td> 20801                                        </td><td>Cristiano Ronaldo                             </td><td>33                                            </td><td>https://cdn.sofifa.org/players/4/19/20801.png </td><td>Portugal                                      </td><td>https://cdn.sofifa.org/flags/38.png           </td><td>94                                            </td><td>94                                            </td><td>Juventus                                      </td><td>...                                           </td><td>95                                            </td><td>28                                            </td><td>31                                            </td><td>23                                            </td><td> 7                                            </td><td>11                                            </td><td>15                                            </td><td>14                                            </td><td>11                                            </td><td>â‚¬127.1M                                     </td></tr>\n",
       "\t<tr><td>2                                             </td><td>190871                                        </td><td>Neymar Jr                                     </td><td>26                                            </td><td>https://cdn.sofifa.org/players/4/19/190871.png</td><td>Brazil                                        </td><td>https://cdn.sofifa.org/flags/54.png           </td><td>92                                            </td><td>93                                            </td><td>Paris Saint-Germain                           </td><td>...                                           </td><td>94                                            </td><td>27                                            </td><td>24                                            </td><td>33                                            </td><td> 9                                            </td><td> 9                                            </td><td>15                                            </td><td>15                                            </td><td>11                                            </td><td>â‚¬228.1M                                     </td></tr>\n",
       "\t<tr><td>3                                             </td><td>193080                                        </td><td>De Gea                                        </td><td>27                                            </td><td>https://cdn.sofifa.org/players/4/19/193080.png</td><td>Spain                                         </td><td>https://cdn.sofifa.org/flags/45.png           </td><td>91                                            </td><td>93                                            </td><td>Manchester United                             </td><td>...                                           </td><td>68                                            </td><td>15                                            </td><td>21                                            </td><td>13                                            </td><td>90                                            </td><td>85                                            </td><td>87                                            </td><td>88                                            </td><td>94                                            </td><td>â‚¬138.6M                                     </td></tr>\n",
       "\t<tr><td>4                                             </td><td>192985                                        </td><td>K. De Bruyne                                  </td><td>27                                            </td><td>https://cdn.sofifa.org/players/4/19/192985.png</td><td>Belgium                                       </td><td>https://cdn.sofifa.org/flags/7.png            </td><td>91                                            </td><td>92                                            </td><td>Manchester City                               </td><td>...                                           </td><td>88                                            </td><td>68                                            </td><td>58                                            </td><td>51                                            </td><td>15                                            </td><td>13                                            </td><td> 5                                            </td><td>10                                            </td><td>13                                            </td><td>â‚¬196.4M                                     </td></tr>\n",
       "\t<tr><td>5                                             </td><td>183277                                        </td><td>E. Hazard                                     </td><td>27                                            </td><td>https://cdn.sofifa.org/players/4/19/183277.png</td><td>Belgium                                       </td><td>https://cdn.sofifa.org/flags/7.png            </td><td>91                                            </td><td>91                                            </td><td>Chelsea                                       </td><td>...                                           </td><td>91                                            </td><td>34                                            </td><td>27                                            </td><td>22                                            </td><td>11                                            </td><td>12                                            </td><td> 6                                            </td><td> 8                                            </td><td> 8                                            </td><td>â‚¬172.1M                                     </td></tr>\n",
       "</tbody>\n",
       "</table>\n"
      ],
      "text/latex": [
       "\\begin{tabular}{r|lllllllllllllllllllllllllllllllllllllllllllllllllllllllllllllllllllllllllllllllllllllllll}\n",
       " ï.. & ID & Name & Age & Photo & Nationality & Flag & Overall & Potential & Club & ... & Composure & Marking & StandingTackle & SlidingTackle & GKDiving & GKHandling & GKKicking & GKPositioning & GKReflexes & Release.Clause\\\\\n",
       "\\hline\n",
       "\t 0                                              & 158023                                         & L. Messi                                       & 31                                             & https://cdn.sofifa.org/players/4/19/158023.png & Argentina                                      & https://cdn.sofifa.org/flags/52.png            & 94                                             & 94                                             & FC Barcelona                                   & ...                                            & 96                                             & 33                                             & 28                                             & 26                                             &  6                                             & 11                                             & 15                                             & 14                                             &  8                                             & â‚¬226.5M                                     \\\\\n",
       "\t 1                                              &  20801                                         & Cristiano Ronaldo                              & 33                                             & https://cdn.sofifa.org/players/4/19/20801.png  & Portugal                                       & https://cdn.sofifa.org/flags/38.png            & 94                                             & 94                                             & Juventus                                       & ...                                            & 95                                             & 28                                             & 31                                             & 23                                             &  7                                             & 11                                             & 15                                             & 14                                             & 11                                             & â‚¬127.1M                                     \\\\\n",
       "\t 2                                              & 190871                                         & Neymar Jr                                      & 26                                             & https://cdn.sofifa.org/players/4/19/190871.png & Brazil                                         & https://cdn.sofifa.org/flags/54.png            & 92                                             & 93                                             & Paris Saint-Germain                            & ...                                            & 94                                             & 27                                             & 24                                             & 33                                             &  9                                             &  9                                             & 15                                             & 15                                             & 11                                             & â‚¬228.1M                                     \\\\\n",
       "\t 3                                              & 193080                                         & De Gea                                         & 27                                             & https://cdn.sofifa.org/players/4/19/193080.png & Spain                                          & https://cdn.sofifa.org/flags/45.png            & 91                                             & 93                                             & Manchester United                              & ...                                            & 68                                             & 15                                             & 21                                             & 13                                             & 90                                             & 85                                             & 87                                             & 88                                             & 94                                             & â‚¬138.6M                                     \\\\\n",
       "\t 4                                              & 192985                                         & K. De Bruyne                                   & 27                                             & https://cdn.sofifa.org/players/4/19/192985.png & Belgium                                        & https://cdn.sofifa.org/flags/7.png             & 91                                             & 92                                             & Manchester City                                & ...                                            & 88                                             & 68                                             & 58                                             & 51                                             & 15                                             & 13                                             &  5                                             & 10                                             & 13                                             & â‚¬196.4M                                     \\\\\n",
       "\t 5                                              & 183277                                         & E. Hazard                                      & 27                                             & https://cdn.sofifa.org/players/4/19/183277.png & Belgium                                        & https://cdn.sofifa.org/flags/7.png             & 91                                             & 91                                             & Chelsea                                        & ...                                            & 91                                             & 34                                             & 27                                             & 22                                             & 11                                             & 12                                             &  6                                             &  8                                             &  8                                             & â‚¬172.1M                                     \\\\\n",
       "\\end{tabular}\n"
      ],
      "text/markdown": [
       "\n",
       "| ï.. | ID | Name | Age | Photo | Nationality | Flag | Overall | Potential | Club | ... | Composure | Marking | StandingTackle | SlidingTackle | GKDiving | GKHandling | GKKicking | GKPositioning | GKReflexes | Release.Clause |\n",
       "|---|---|---|---|---|---|---|---|---|---|---|---|---|---|---|---|---|---|---|---|---|\n",
       "| 0                                              | 158023                                         | L. Messi                                       | 31                                             | https://cdn.sofifa.org/players/4/19/158023.png | Argentina                                      | https://cdn.sofifa.org/flags/52.png            | 94                                             | 94                                             | FC Barcelona                                   | ...                                            | 96                                             | 33                                             | 28                                             | 26                                             |  6                                             | 11                                             | 15                                             | 14                                             |  8                                             | â‚¬226.5M                                      |\n",
       "| 1                                              |  20801                                         | Cristiano Ronaldo                              | 33                                             | https://cdn.sofifa.org/players/4/19/20801.png  | Portugal                                       | https://cdn.sofifa.org/flags/38.png            | 94                                             | 94                                             | Juventus                                       | ...                                            | 95                                             | 28                                             | 31                                             | 23                                             |  7                                             | 11                                             | 15                                             | 14                                             | 11                                             | â‚¬127.1M                                      |\n",
       "| 2                                              | 190871                                         | Neymar Jr                                      | 26                                             | https://cdn.sofifa.org/players/4/19/190871.png | Brazil                                         | https://cdn.sofifa.org/flags/54.png            | 92                                             | 93                                             | Paris Saint-Germain                            | ...                                            | 94                                             | 27                                             | 24                                             | 33                                             |  9                                             |  9                                             | 15                                             | 15                                             | 11                                             | â‚¬228.1M                                      |\n",
       "| 3                                              | 193080                                         | De Gea                                         | 27                                             | https://cdn.sofifa.org/players/4/19/193080.png | Spain                                          | https://cdn.sofifa.org/flags/45.png            | 91                                             | 93                                             | Manchester United                              | ...                                            | 68                                             | 15                                             | 21                                             | 13                                             | 90                                             | 85                                             | 87                                             | 88                                             | 94                                             | â‚¬138.6M                                      |\n",
       "| 4                                              | 192985                                         | K. De Bruyne                                   | 27                                             | https://cdn.sofifa.org/players/4/19/192985.png | Belgium                                        | https://cdn.sofifa.org/flags/7.png             | 91                                             | 92                                             | Manchester City                                | ...                                            | 88                                             | 68                                             | 58                                             | 51                                             | 15                                             | 13                                             |  5                                             | 10                                             | 13                                             | â‚¬196.4M                                      |\n",
       "| 5                                              | 183277                                         | E. Hazard                                      | 27                                             | https://cdn.sofifa.org/players/4/19/183277.png | Belgium                                        | https://cdn.sofifa.org/flags/7.png             | 91                                             | 91                                             | Chelsea                                        | ...                                            | 91                                             | 34                                             | 27                                             | 22                                             | 11                                             | 12                                             |  6                                             |  8                                             |  8                                             | â‚¬172.1M                                      |\n",
       "\n"
      ],
      "text/plain": [
       "  ï.. ID     Name              Age\n",
       "1 0   158023 L. Messi          31 \n",
       "2 1    20801 Cristiano Ronaldo 33 \n",
       "3 2   190871 Neymar Jr         26 \n",
       "4 3   193080 De Gea            27 \n",
       "5 4   192985 K. De Bruyne      27 \n",
       "6 5   183277 E. Hazard         27 \n",
       "  Photo                                          Nationality\n",
       "1 https://cdn.sofifa.org/players/4/19/158023.png Argentina  \n",
       "2 https://cdn.sofifa.org/players/4/19/20801.png  Portugal   \n",
       "3 https://cdn.sofifa.org/players/4/19/190871.png Brazil     \n",
       "4 https://cdn.sofifa.org/players/4/19/193080.png Spain      \n",
       "5 https://cdn.sofifa.org/players/4/19/192985.png Belgium    \n",
       "6 https://cdn.sofifa.org/players/4/19/183277.png Belgium    \n",
       "  Flag                                Overall Potential Club                ...\n",
       "1 https://cdn.sofifa.org/flags/52.png 94      94        FC Barcelona        ...\n",
       "2 https://cdn.sofifa.org/flags/38.png 94      94        Juventus            ...\n",
       "3 https://cdn.sofifa.org/flags/54.png 92      93        Paris Saint-Germain ...\n",
       "4 https://cdn.sofifa.org/flags/45.png 91      93        Manchester United   ...\n",
       "5 https://cdn.sofifa.org/flags/7.png  91      92        Manchester City     ...\n",
       "6 https://cdn.sofifa.org/flags/7.png  91      91        Chelsea             ...\n",
       "  Composure Marking StandingTackle SlidingTackle GKDiving GKHandling GKKicking\n",
       "1 96        33      28             26             6       11         15       \n",
       "2 95        28      31             23             7       11         15       \n",
       "3 94        27      24             33             9        9         15       \n",
       "4 68        15      21             13            90       85         87       \n",
       "5 88        68      58             51            15       13          5       \n",
       "6 91        34      27             22            11       12          6       \n",
       "  GKPositioning GKReflexes Release.Clause\n",
       "1 14             8         â‚¬226.5M     \n",
       "2 14            11         â‚¬127.1M     \n",
       "3 15            11         â‚¬228.1M     \n",
       "4 88            94         â‚¬138.6M     \n",
       "5 10            13         â‚¬196.4M     \n",
       "6  8             8         â‚¬172.1M     "
      ]
     },
     "metadata": {},
     "output_type": "display_data"
    }
   ],
   "source": [
    "df = read.csv('data.csv')\n",
    "head(df)"
   ]
  },
  {
   "cell_type": "code",
   "execution_count": 2,
   "metadata": {},
   "outputs": [
    {
     "name": "stdout",
     "output_type": "stream",
     "text": [
      "'data.frame':\t18207 obs. of  89 variables:\n",
      " $ ï..                     : int  0 1 2 3 4 5 6 7 8 9 ...\n",
      " $ ID                      : int  158023 20801 190871 193080 192985 183277 177003 176580 155862 200389 ...\n",
      " $ Name                    : Factor w/ 17194 levels \"A. Ã–hman\",\"A. Ã–mÃ¼r\",..: 9689 3206 12560 4187 8671 4478 9697 9899 15466 7835 ...\n",
      " $ Age                     : int  31 33 26 27 27 27 32 31 32 25 ...\n",
      " $ Photo                   : Factor w/ 18207 levels \"https://cdn.sofifa.org/players/4/19/100803.png\",..: 567 6032 3132 3468 3453 1986 1447 1391 484 4443 ...\n",
      " $ Nationality             : Factor w/ 164 levels \"Afghanistan\",..: 7 124 21 141 14 14 36 159 141 138 ...\n",
      " $ Flag                    : Factor w/ 164 levels \"https://cdn.sofifa.org/flags/1.png\",..: 123 108 125 115 138 138 2 132 115 114 ...\n",
      " $ Overall                 : int  94 94 92 91 91 91 91 91 91 90 ...\n",
      " $ Potential               : int  94 94 93 93 92 91 91 91 91 93 ...\n",
      " $ Club                    : Factor w/ 652 levels \"\",\" SSV Jahn Regensburg\",..: 218 333 438 380 379 142 475 218 475 65 ...\n",
      " $ Club.Logo               : Factor w/ 679 levels \"https://cdn.sofifa.org/flags/103.png\",..: 491 553 638 90 30 577 493 491 493 490 ...\n",
      " $ Value                   : Factor w/ 217 levels \"â‚¬0\",\"â‚¬1.1M\",..: 17 196 19 191 13 214 183 202 155 184 ...\n",
      " $ Wage                    : Factor w/ 144 levels \"â‚¬0\",\"â‚¬100K\",..: 95 75 56 50 67 65 78 82 71 138 ...\n",
      " $ Special                 : int  2202 2228 2143 1471 2281 2142 2280 2346 2201 1331 ...\n",
      " $ Preferred.Foot          : Factor w/ 3 levels \"\",\"Left\",\"Right\": 2 3 3 3 3 3 3 3 3 3 ...\n",
      " $ International.Reputation: int  5 5 5 4 4 4 4 5 4 3 ...\n",
      " $ Weak.Foot               : int  4 4 5 3 5 4 4 4 3 3 ...\n",
      " $ Skill.Moves             : int  4 5 5 1 4 4 4 3 3 1 ...\n",
      " $ Work.Rate               : Factor w/ 10 levels \"\",\"High/ High\",..: 10 3 4 10 2 4 2 4 4 10 ...\n",
      " $ Body.Type               : Factor w/ 11 levels \"\",\"Akinfenwa\",..: 6 3 7 5 8 8 5 8 8 8 ...\n",
      " $ Real.Face               : Factor w/ 3 levels \"\",\"No\",\"Yes\": 3 3 3 3 3 3 3 3 3 3 ...\n",
      " $ Position                : Factor w/ 28 levels \"\",\"CAM\",\"CB\",..: 23 28 16 7 21 13 21 25 20 7 ...\n",
      " $ Jersey.Number           : int  10 7 10 1 7 10 10 9 15 1 ...\n",
      " $ Joined                  : Factor w/ 1737 levels \"\",\"Apr 1, 2008\",..: 776 796 249 783 255 784 105 801 98 836 ...\n",
      " $ Loaned.From             : Factor w/ 342 levels \"\",\"1. FC KÃ¶ln\",..: 1 1 1 1 1 1 1 1 1 1 ...\n",
      " $ Contract.Valid.Until    : Factor w/ 37 levels \"\",\"2018\",\"2019\",..: 5 6 6 4 7 4 4 5 4 5 ...\n",
      " $ Height                  : Factor w/ 22 levels \"\",\"5'1\",\"5'10\",..: 10 15 12 17 4 11 11 13 13 15 ...\n",
      " $ Weight                  : Factor w/ 58 levels \"\",\"110lbs\",\"115lbs\",..: 23 34 19 27 21 25 17 37 33 38 ...\n",
      " $ LS                      : Factor w/ 94 levels \"\",\"31+2\",\"32+2\",..: 93 94 88 1 85 87 75 92 67 1 ...\n",
      " $ ST                      : Factor w/ 94 levels \"\",\"31+2\",\"32+2\",..: 93 94 88 1 85 87 75 92 67 1 ...\n",
      " $ RS                      : Factor w/ 94 levels \"\",\"31+2\",\"32+2\",..: 93 94 88 1 85 87 75 92 67 1 ...\n",
      " $ LW                      : Factor w/ 106 levels \"\",\"25+2\",\"27+2\",..: 106 105 105 1 104 105 101 103 71 1 ...\n",
      " $ LF                      : Factor w/ 103 levels \"\",\"27+2\",\"29+2\",..: 103 102 101 1 98 100 95 99 68 1 ...\n",
      " $ CF                      : Factor w/ 103 levels \"\",\"27+2\",\"29+2\",..: 103 102 101 1 98 100 95 99 68 1 ...\n",
      " $ RF                      : Factor w/ 103 levels \"\",\"27+2\",\"29+2\",..: 103 102 101 1 98 100 95 99 68 1 ...\n",
      " $ RW                      : Factor w/ 106 levels \"\",\"25+2\",\"27+2\",..: 106 105 105 1 104 105 101 103 71 1 ...\n",
      " $ LAM                     : Factor w/ 102 levels \"\",\"27+2\",\"28+2\",..: 102 100 101 1 100 101 99 97 69 1 ...\n",
      " $ CAM                     : Factor w/ 102 levels \"\",\"27+2\",\"28+2\",..: 102 100 101 1 100 101 99 97 69 1 ...\n",
      " $ RAM                     : Factor w/ 102 levels \"\",\"27+2\",\"28+2\",..: 102 100 101 1 100 101 99 97 69 1 ...\n",
      " $ LM                      : Factor w/ 101 levels \"\",\"27+2\",\"28+2\",..: 101 99 99 1 99 100 98 96 70 1 ...\n",
      " $ LCM                     : Factor w/ 93 levels \"\",\"30+2\",\"31+2\",..: 88 83 83 1 92 85 93 79 70 1 ...\n",
      " $ CM                      : Factor w/ 93 levels \"\",\"30+2\",\"31+2\",..: 88 83 83 1 92 85 93 79 70 1 ...\n",
      " $ RCM                     : Factor w/ 93 levels \"\",\"30+2\",\"31+2\",..: 88 83 83 1 92 85 93 79 70 1 ...\n",
      " $ RM                      : Factor w/ 101 levels \"\",\"27+2\",\"28+2\",..: 101 99 99 1 99 100 98 96 70 1 ...\n",
      " $ LWB                     : Factor w/ 96 levels \"\",\"30+2\",\"31+2\",..: 55 58 58 1 83 60 93 67 91 1 ...\n",
      " $ LDM                     : Factor w/ 100 levels \"\",\"28+2\",\"29+2\",..: 50 51 49 1 84 55 92 66 97 1 ...\n",
      " $ CDM                     : Factor w/ 100 levels \"\",\"28+2\",\"29+2\",..: 50 51 49 1 84 55 92 66 97 1 ...\n",
      " $ RDM                     : Factor w/ 100 levels \"\",\"28+2\",\"29+2\",..: 50 51 49 1 84 55 92 66 97 1 ...\n",
      " $ RWB                     : Factor w/ 96 levels \"\",\"30+2\",\"31+2\",..: 55 58 58 1 83 60 93 67 91 1 ...\n",
      " $ LB                      : Factor w/ 99 levels \"\",\"29+2\",\"30+2\",..: 49 54 52 1 79 52 91 65 99 1 ...\n",
      " $ LCB                     : Factor w/ 109 levels \"\",\"25+2\",\"27+2\",..: 30 44 31 1 71 35 81 65 109 1 ...\n",
      " $ CB                      : Factor w/ 109 levels \"\",\"25+2\",\"27+2\",..: 30 44 31 1 71 35 81 65 109 1 ...\n",
      " $ RCB                     : Factor w/ 109 levels \"\",\"25+2\",\"27+2\",..: 30 44 31 1 71 35 81 65 109 1 ...\n",
      " $ RB                      : Factor w/ 99 levels \"\",\"29+2\",\"30+2\",..: 49 54 52 1 79 52 91 65 99 1 ...\n",
      " $ Crossing                : int  84 84 79 17 93 81 86 77 66 13 ...\n",
      " $ Finishing               : int  95 94 87 13 82 84 72 93 60 11 ...\n",
      " $ HeadingAccuracy         : int  70 89 62 21 55 61 55 77 91 15 ...\n",
      " $ ShortPassing            : int  90 81 84 50 92 89 93 82 78 29 ...\n",
      " $ Volleys                 : int  86 87 84 13 82 80 76 88 66 13 ...\n",
      " $ Dribbling               : int  97 88 96 18 86 95 90 87 63 12 ...\n",
      " $ Curve                   : int  93 81 88 21 85 83 85 86 74 13 ...\n",
      " $ FKAccuracy              : int  94 76 87 19 83 79 78 84 72 14 ...\n",
      " $ LongPassing             : int  87 77 78 51 91 83 88 64 77 26 ...\n",
      " $ BallControl             : int  96 94 95 42 91 94 93 90 84 16 ...\n",
      " $ Acceleration            : int  91 89 94 57 78 94 80 86 76 43 ...\n",
      " $ SprintSpeed             : int  86 91 90 58 76 88 72 75 75 60 ...\n",
      " $ Agility                 : int  91 87 96 60 79 95 93 82 78 67 ...\n",
      " $ Reactions               : int  95 96 94 90 91 90 90 92 85 86 ...\n",
      " $ Balance                 : int  95 70 84 43 77 94 94 83 66 49 ...\n",
      " $ ShotPower               : int  85 95 80 31 91 82 79 86 79 22 ...\n",
      " $ Jumping                 : int  68 95 61 67 63 56 68 69 93 76 ...\n",
      " $ Stamina                 : int  72 88 81 43 90 83 89 90 84 41 ...\n",
      " $ Strength                : int  59 79 49 64 75 66 58 83 83 78 ...\n",
      " $ LongShots               : int  94 93 82 12 91 80 82 85 59 12 ...\n",
      " $ Aggression              : int  48 63 56 38 76 54 62 87 88 34 ...\n",
      " $ Interceptions           : int  22 29 36 30 61 41 83 41 90 19 ...\n",
      " $ Positioning             : int  94 95 89 12 87 87 79 92 60 11 ...\n",
      " $ Vision                  : int  94 82 87 68 94 89 92 84 63 70 ...\n",
      " $ Penalties               : int  75 85 81 40 79 86 82 85 75 11 ...\n",
      " $ Composure               : int  96 95 94 68 88 91 84 85 82 70 ...\n",
      " $ Marking                 : int  33 28 27 15 68 34 60 62 87 27 ...\n",
      " $ StandingTackle          : int  28 31 24 21 58 27 76 45 92 12 ...\n",
      " $ SlidingTackle           : int  26 23 33 13 51 22 73 38 91 18 ...\n",
      " $ GKDiving                : int  6 7 9 90 15 11 13 27 11 86 ...\n",
      " $ GKHandling              : int  11 11 9 85 13 12 9 25 8 92 ...\n",
      " $ GKKicking               : int  15 15 15 87 5 6 7 31 9 78 ...\n",
      " $ GKPositioning           : int  14 14 15 88 10 8 14 33 7 88 ...\n",
      " $ GKReflexes              : int  8 11 11 94 13 8 9 37 11 89 ...\n",
      " $ Release.Clause          : Factor w/ 1245 levels \"\",\"â‚¬1.1M\",\"â‚¬1.2M\",..: 295 84 296 106 234 189 104 170 24 123 ...\n"
     ]
    }
   ],
   "source": [
    "str(df)"
   ]
  },
  {
   "cell_type": "code",
   "execution_count": 3,
   "metadata": {},
   "outputs": [
    {
     "data": {
      "text/html": [
       "TRUE"
      ],
      "text/latex": [
       "TRUE"
      ],
      "text/markdown": [
       "TRUE"
      ],
      "text/plain": [
       "[1] TRUE"
      ]
     },
     "metadata": {},
     "output_type": "display_data"
    }
   ],
   "source": [
    "any(is.na(df))"
   ]
  },
  {
   "cell_type": "code",
   "execution_count": 4,
   "metadata": {},
   "outputs": [
    {
     "data": {
      "text/html": [
       "18207"
      ],
      "text/latex": [
       "18207"
      ],
      "text/markdown": [
       "18207"
      ],
      "text/plain": [
       "[1] 18207"
      ]
     },
     "metadata": {},
     "output_type": "display_data"
    }
   ],
   "source": [
    "nrow(df)"
   ]
  },
  {
   "cell_type": "code",
   "execution_count": 5,
   "metadata": {},
   "outputs": [],
   "source": [
    "df <- na.omit(df)"
   ]
  },
  {
   "cell_type": "code",
   "execution_count": 6,
   "metadata": {},
   "outputs": [
    {
     "data": {
      "text/html": [
       "18147"
      ],
      "text/latex": [
       "18147"
      ],
      "text/markdown": [
       "18147"
      ],
      "text/plain": [
       "[1] 18147"
      ]
     },
     "metadata": {},
     "output_type": "display_data"
    }
   ],
   "source": [
    "nrow(df)"
   ]
  },
  {
   "cell_type": "code",
   "execution_count": 7,
   "metadata": {},
   "outputs": [
    {
     "data": {
      "text/html": [
       "FALSE"
      ],
      "text/latex": [
       "FALSE"
      ],
      "text/markdown": [
       "FALSE"
      ],
      "text/plain": [
       "[1] FALSE"
      ]
     },
     "metadata": {},
     "output_type": "display_data"
    }
   ],
   "source": [
    "any(is.na(df))"
   ]
  },
  {
   "cell_type": "code",
   "execution_count": 8,
   "metadata": {},
   "outputs": [],
   "source": [
    "col = 55:88\n",
    "new.df = df[,c(4,8,9,col)]"
   ]
  },
  {
   "cell_type": "code",
   "execution_count": 9,
   "metadata": {},
   "outputs": [
    {
     "data": {
      "text/html": [
       "<table>\n",
       "<thead><tr><th scope=col>Age</th><th scope=col>Overall</th><th scope=col>Potential</th><th scope=col>Crossing</th><th scope=col>Finishing</th><th scope=col>HeadingAccuracy</th><th scope=col>ShortPassing</th><th scope=col>Volleys</th><th scope=col>Dribbling</th><th scope=col>Curve</th><th scope=col>...</th><th scope=col>Penalties</th><th scope=col>Composure</th><th scope=col>Marking</th><th scope=col>StandingTackle</th><th scope=col>SlidingTackle</th><th scope=col>GKDiving</th><th scope=col>GKHandling</th><th scope=col>GKKicking</th><th scope=col>GKPositioning</th><th scope=col>GKReflexes</th></tr></thead>\n",
       "<tbody>\n",
       "\t<tr><td>31 </td><td>94 </td><td>94 </td><td>84 </td><td>95 </td><td>70 </td><td>90 </td><td>86 </td><td>97 </td><td>93 </td><td>...</td><td>75 </td><td>96 </td><td>33 </td><td>28 </td><td>26 </td><td> 6 </td><td>11 </td><td>15 </td><td>14 </td><td> 8 </td></tr>\n",
       "\t<tr><td>33 </td><td>94 </td><td>94 </td><td>84 </td><td>94 </td><td>89 </td><td>81 </td><td>87 </td><td>88 </td><td>81 </td><td>...</td><td>85 </td><td>95 </td><td>28 </td><td>31 </td><td>23 </td><td> 7 </td><td>11 </td><td>15 </td><td>14 </td><td>11 </td></tr>\n",
       "\t<tr><td>26 </td><td>92 </td><td>93 </td><td>79 </td><td>87 </td><td>62 </td><td>84 </td><td>84 </td><td>96 </td><td>88 </td><td>...</td><td>81 </td><td>94 </td><td>27 </td><td>24 </td><td>33 </td><td> 9 </td><td> 9 </td><td>15 </td><td>15 </td><td>11 </td></tr>\n",
       "\t<tr><td>27 </td><td>91 </td><td>93 </td><td>17 </td><td>13 </td><td>21 </td><td>50 </td><td>13 </td><td>18 </td><td>21 </td><td>...</td><td>40 </td><td>68 </td><td>15 </td><td>21 </td><td>13 </td><td>90 </td><td>85 </td><td>87 </td><td>88 </td><td>94 </td></tr>\n",
       "\t<tr><td>27 </td><td>91 </td><td>92 </td><td>93 </td><td>82 </td><td>55 </td><td>92 </td><td>82 </td><td>86 </td><td>85 </td><td>...</td><td>79 </td><td>88 </td><td>68 </td><td>58 </td><td>51 </td><td>15 </td><td>13 </td><td> 5 </td><td>10 </td><td>13 </td></tr>\n",
       "\t<tr><td>27 </td><td>91 </td><td>91 </td><td>81 </td><td>84 </td><td>61 </td><td>89 </td><td>80 </td><td>95 </td><td>83 </td><td>...</td><td>86 </td><td>91 </td><td>34 </td><td>27 </td><td>22 </td><td>11 </td><td>12 </td><td> 6 </td><td> 8 </td><td> 8 </td></tr>\n",
       "</tbody>\n",
       "</table>\n"
      ],
      "text/latex": [
       "\\begin{tabular}{r|lllllllllllllllllllllllllllllllllllll}\n",
       " Age & Overall & Potential & Crossing & Finishing & HeadingAccuracy & ShortPassing & Volleys & Dribbling & Curve & ... & Penalties & Composure & Marking & StandingTackle & SlidingTackle & GKDiving & GKHandling & GKKicking & GKPositioning & GKReflexes\\\\\n",
       "\\hline\n",
       "\t 31  & 94  & 94  & 84  & 95  & 70  & 90  & 86  & 97  & 93  & ... & 75  & 96  & 33  & 28  & 26  &  6  & 11  & 15  & 14  &  8 \\\\\n",
       "\t 33  & 94  & 94  & 84  & 94  & 89  & 81  & 87  & 88  & 81  & ... & 85  & 95  & 28  & 31  & 23  &  7  & 11  & 15  & 14  & 11 \\\\\n",
       "\t 26  & 92  & 93  & 79  & 87  & 62  & 84  & 84  & 96  & 88  & ... & 81  & 94  & 27  & 24  & 33  &  9  &  9  & 15  & 15  & 11 \\\\\n",
       "\t 27  & 91  & 93  & 17  & 13  & 21  & 50  & 13  & 18  & 21  & ... & 40  & 68  & 15  & 21  & 13  & 90  & 85  & 87  & 88  & 94 \\\\\n",
       "\t 27  & 91  & 92  & 93  & 82  & 55  & 92  & 82  & 86  & 85  & ... & 79  & 88  & 68  & 58  & 51  & 15  & 13  &  5  & 10  & 13 \\\\\n",
       "\t 27  & 91  & 91  & 81  & 84  & 61  & 89  & 80  & 95  & 83  & ... & 86  & 91  & 34  & 27  & 22  & 11  & 12  &  6  &  8  &  8 \\\\\n",
       "\\end{tabular}\n"
      ],
      "text/markdown": [
       "\n",
       "| Age | Overall | Potential | Crossing | Finishing | HeadingAccuracy | ShortPassing | Volleys | Dribbling | Curve | ... | Penalties | Composure | Marking | StandingTackle | SlidingTackle | GKDiving | GKHandling | GKKicking | GKPositioning | GKReflexes |\n",
       "|---|---|---|---|---|---|---|---|---|---|---|---|---|---|---|---|---|---|---|---|---|\n",
       "| 31  | 94  | 94  | 84  | 95  | 70  | 90  | 86  | 97  | 93  | ... | 75  | 96  | 33  | 28  | 26  |  6  | 11  | 15  | 14  |  8  |\n",
       "| 33  | 94  | 94  | 84  | 94  | 89  | 81  | 87  | 88  | 81  | ... | 85  | 95  | 28  | 31  | 23  |  7  | 11  | 15  | 14  | 11  |\n",
       "| 26  | 92  | 93  | 79  | 87  | 62  | 84  | 84  | 96  | 88  | ... | 81  | 94  | 27  | 24  | 33  |  9  |  9  | 15  | 15  | 11  |\n",
       "| 27  | 91  | 93  | 17  | 13  | 21  | 50  | 13  | 18  | 21  | ... | 40  | 68  | 15  | 21  | 13  | 90  | 85  | 87  | 88  | 94  |\n",
       "| 27  | 91  | 92  | 93  | 82  | 55  | 92  | 82  | 86  | 85  | ... | 79  | 88  | 68  | 58  | 51  | 15  | 13  |  5  | 10  | 13  |\n",
       "| 27  | 91  | 91  | 81  | 84  | 61  | 89  | 80  | 95  | 83  | ... | 86  | 91  | 34  | 27  | 22  | 11  | 12  |  6  |  8  |  8  |\n",
       "\n"
      ],
      "text/plain": [
       "  Age Overall Potential Crossing Finishing HeadingAccuracy ShortPassing Volleys\n",
       "1 31  94      94        84       95        70              90           86     \n",
       "2 33  94      94        84       94        89              81           87     \n",
       "3 26  92      93        79       87        62              84           84     \n",
       "4 27  91      93        17       13        21              50           13     \n",
       "5 27  91      92        93       82        55              92           82     \n",
       "6 27  91      91        81       84        61              89           80     \n",
       "  Dribbling Curve ... Penalties Composure Marking StandingTackle SlidingTackle\n",
       "1 97        93    ... 75        96        33      28             26           \n",
       "2 88        81    ... 85        95        28      31             23           \n",
       "3 96        88    ... 81        94        27      24             33           \n",
       "4 18        21    ... 40        68        15      21             13           \n",
       "5 86        85    ... 79        88        68      58             51           \n",
       "6 95        83    ... 86        91        34      27             22           \n",
       "  GKDiving GKHandling GKKicking GKPositioning GKReflexes\n",
       "1  6       11         15        14             8        \n",
       "2  7       11         15        14            11        \n",
       "3  9        9         15        15            11        \n",
       "4 90       85         87        88            94        \n",
       "5 15       13          5        10            13        \n",
       "6 11       12          6         8             8        "
      ]
     },
     "metadata": {},
     "output_type": "display_data"
    }
   ],
   "source": [
    "head(new.df)"
   ]
  },
  {
   "cell_type": "code",
   "execution_count": 10,
   "metadata": {},
   "outputs": [
    {
     "name": "stdout",
     "output_type": "stream",
     "text": [
      "'data.frame':\t18147 obs. of  37 variables:\n",
      " $ Age            : int  31 33 26 27 27 27 32 31 32 25 ...\n",
      " $ Overall        : int  94 94 92 91 91 91 91 91 91 90 ...\n",
      " $ Potential      : int  94 94 93 93 92 91 91 91 91 93 ...\n",
      " $ Crossing       : int  84 84 79 17 93 81 86 77 66 13 ...\n",
      " $ Finishing      : int  95 94 87 13 82 84 72 93 60 11 ...\n",
      " $ HeadingAccuracy: int  70 89 62 21 55 61 55 77 91 15 ...\n",
      " $ ShortPassing   : int  90 81 84 50 92 89 93 82 78 29 ...\n",
      " $ Volleys        : int  86 87 84 13 82 80 76 88 66 13 ...\n",
      " $ Dribbling      : int  97 88 96 18 86 95 90 87 63 12 ...\n",
      " $ Curve          : int  93 81 88 21 85 83 85 86 74 13 ...\n",
      " $ FKAccuracy     : int  94 76 87 19 83 79 78 84 72 14 ...\n",
      " $ LongPassing    : int  87 77 78 51 91 83 88 64 77 26 ...\n",
      " $ BallControl    : int  96 94 95 42 91 94 93 90 84 16 ...\n",
      " $ Acceleration   : int  91 89 94 57 78 94 80 86 76 43 ...\n",
      " $ SprintSpeed    : int  86 91 90 58 76 88 72 75 75 60 ...\n",
      " $ Agility        : int  91 87 96 60 79 95 93 82 78 67 ...\n",
      " $ Reactions      : int  95 96 94 90 91 90 90 92 85 86 ...\n",
      " $ Balance        : int  95 70 84 43 77 94 94 83 66 49 ...\n",
      " $ ShotPower      : int  85 95 80 31 91 82 79 86 79 22 ...\n",
      " $ Jumping        : int  68 95 61 67 63 56 68 69 93 76 ...\n",
      " $ Stamina        : int  72 88 81 43 90 83 89 90 84 41 ...\n",
      " $ Strength       : int  59 79 49 64 75 66 58 83 83 78 ...\n",
      " $ LongShots      : int  94 93 82 12 91 80 82 85 59 12 ...\n",
      " $ Aggression     : int  48 63 56 38 76 54 62 87 88 34 ...\n",
      " $ Interceptions  : int  22 29 36 30 61 41 83 41 90 19 ...\n",
      " $ Positioning    : int  94 95 89 12 87 87 79 92 60 11 ...\n",
      " $ Vision         : int  94 82 87 68 94 89 92 84 63 70 ...\n",
      " $ Penalties      : int  75 85 81 40 79 86 82 85 75 11 ...\n",
      " $ Composure      : int  96 95 94 68 88 91 84 85 82 70 ...\n",
      " $ Marking        : int  33 28 27 15 68 34 60 62 87 27 ...\n",
      " $ StandingTackle : int  28 31 24 21 58 27 76 45 92 12 ...\n",
      " $ SlidingTackle  : int  26 23 33 13 51 22 73 38 91 18 ...\n",
      " $ GKDiving       : int  6 7 9 90 15 11 13 27 11 86 ...\n",
      " $ GKHandling     : int  11 11 9 85 13 12 9 25 8 92 ...\n",
      " $ GKKicking      : int  15 15 15 87 5 6 7 31 9 78 ...\n",
      " $ GKPositioning  : int  14 14 15 88 10 8 14 33 7 88 ...\n",
      " $ GKReflexes     : int  8 11 11 94 13 8 9 37 11 89 ...\n"
     ]
    }
   ],
   "source": [
    "str(new.df)"
   ]
  },
  {
   "cell_type": "code",
   "execution_count": 11,
   "metadata": {},
   "outputs": [],
   "source": [
    "model <- kmeans(new.df, 2, nstart = 25)"
   ]
  },
  {
   "cell_type": "code",
   "execution_count": 12,
   "metadata": {},
   "outputs": [],
   "source": [
    "library(cluster)"
   ]
  },
  {
   "cell_type": "code",
   "execution_count": 13,
   "metadata": {},
   "outputs": [
    {
     "data": {
      "image/png": "[encoded data removed]",
      "text/plain": [
       "Plot with title \"CLUSPLOT( new.df )\""
      ]
     },
     "metadata": {},
     "output_type": "display_data"
    }
   ],
   "source": [
    "clusplot(new.df, model$cluster, color=TRUE, shade=TRUE, labels=0,lines=0,span=TRUE )"
   ]
  }
 ],
 "metadata": {
  "kernelspec": {
   "display_name": "R",
   "language": "R",
   "name": "ir"
  },
  "language_info": {
   "codemirror_mode": "r",
   "file_extension": ".r",
   "mimetype": "text/x-r-source",
   "name": "R",
   "pygments_lexer": "r",
   "version": "3.6.1"
  }
 },
 "nbformat": 4,
 "nbformat_minor": 4
}
